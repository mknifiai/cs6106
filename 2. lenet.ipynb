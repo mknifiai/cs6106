{
 "cells": [
  {
   "cell_type": "markdown",
   "id": "01496d2c-5789-4a62-adc3-e8d83828e5a2",
   "metadata": {},
   "source": [
    "## Convolutional Neural Networks (LeNet)"
   ]
  },
  {
   "cell_type": "markdown",
   "id": "e6d6ffff-31d3-444a-8602-ca2a805725eb",
   "metadata": {},
   "source": [
    "LeNet (LeNet-5) consists of two parts: \n",
    "\n",
    "- (i) a convolutional encoder consisting of two convolutional layers; and\n",
    "\n",
    "- (ii) a dense block consisting of three fully connected layers."
   ]
  },
  {
   "cell_type": "markdown",
   "id": "7fb702db-620f-47bb-b679-44c4ff7c2089",
   "metadata": {},
   "source": [
    "<img src=\"img/lenet.png\" width=500 height=500 />"
   ]
  },
  {
   "cell_type": "markdown",
   "id": "7bcb1c52-2ee6-4722-a55d-20a94519f793",
   "metadata": {},
   "source": [
    "- Each convolutional layer uses a 5 × 5 kernel and a sigmoid activation function. These layers map spatially arranged inputs to a number of two-dimensional feature maps, typically increasing the number of channels. \n",
    "\n",
    "- The first convolutional layer has 6 output channels, while the second has 16.\n",
    "\n",
    "- Each 2 × 2 pooling operation (stride 2) reduces dimensionality by a factor of 4 via spatial downsampling.\n",
    "\n",
    "- The convolutional block emits an output with shape given by (batch size, number of channel, height, width).\n",
    "\n",
    "- In order to pass output from the convolutional block to the dense block, we must flatten each example in the minibatch."
   ]
  },
  {
   "cell_type": "code",
   "execution_count": 3,
   "id": "63d1e6bf-603f-4c08-b3d1-664b849f814a",
   "metadata": {},
   "outputs": [],
   "source": [
    "from torch.nn import Module\n",
    "from torch import nn"
   ]
  },
  {
   "cell_type": "code",
   "execution_count": 4,
   "id": "62b05842-971f-4771-b6e1-2a33dd4a3bed",
   "metadata": {},
   "outputs": [],
   "source": [
    "class LeNet5(Module):\n",
    "    def __init__(self):\n",
    "        super(Model, self).__init__()\n",
    "        self.conv1 = nn.Conv2d(1, 6, 5)\n",
    "        self.relu1 = nn.ReLU()\n",
    "        self.pool1 = nn.MaxPool2d(2)\n",
    "        self.conv2 = nn.Conv2d(6, 16, 5)\n",
    "        self.relu2 = nn.ReLU()\n",
    "        self.pool2 = nn.MaxPool2d(2)\n",
    "        self.fc1 = nn.Linear(256, 120)\n",
    "        self.relu3 = nn.ReLU()\n",
    "        self.fc2 = nn.Linear(120, 84)\n",
    "        self.relu4 = nn.ReLU()\n",
    "        self.fc3 = nn.Linear(84, 10)\n",
    "        self.relu5 = nn.ReLU()\n",
    "\n",
    "    def forward(self, x):\n",
    "        y = self.conv1(x)\n",
    "        y = self.relu1(y)\n",
    "        y = self.pool1(y)\n",
    "        y = self.conv2(y)\n",
    "        y = self.relu2(y)\n",
    "        y = self.pool2(y)\n",
    "        y = y.view(y.shape[0], -1)\n",
    "        y = self.fc1(y)\n",
    "        y = self.relu3(y)\n",
    "        y = self.fc2(y)\n",
    "        y = self.relu4(y)\n",
    "        y = self.fc3(y)\n",
    "        y = self.relu5(y)\n",
    "        return y"
   ]
  },
  {
   "cell_type": "markdown",
   "id": "108a4a5f-8848-4dcf-9709-1e9c2550df7e",
   "metadata": {},
   "source": [
    "Let's recall the compenents of CNN:\n",
    "\n",
    "- Depth and width\n",
    "\n",
    "- convolutional layers-- Kernels (filters)\n",
    "\n",
    "- Pooling layers\n",
    "\n",
    "- Padding and strides\n",
    "\n",
    "- Receptive field (field of view)\n",
    "\n",
    "- Invariance and Equivariance? "
   ]
  },
  {
   "cell_type": "code",
   "execution_count": null,
   "id": "af05815a-695f-4f55-8e87-35fd5206a661",
   "metadata": {},
   "outputs": [],
   "source": []
  }
 ],
 "metadata": {
  "kernelspec": {
   "display_name": "Python 3 (ipykernel)",
   "language": "python",
   "name": "python3"
  },
  "language_info": {
   "codemirror_mode": {
    "name": "ipython",
    "version": 3
   },
   "file_extension": ".py",
   "mimetype": "text/x-python",
   "name": "python",
   "nbconvert_exporter": "python",
   "pygments_lexer": "ipython3",
   "version": "3.12.1"
  }
 },
 "nbformat": 4,
 "nbformat_minor": 5
}
