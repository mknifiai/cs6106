{
 "cells": [
  {
   "cell_type": "markdown",
   "id": "92d11d3c-bfb1-4177-a173-63762acd921e",
   "metadata": {},
   "source": [
    "## Modern CNN\n",
    "\n",
    "### 1. AlexNet (2012)"
   ]
  },
  {
   "cell_type": "markdown",
   "id": "15b11ba5-5286-4c68-a914-365b018ebf30",
   "metadata": {},
   "source": [
    "<img src=\"img/lnetalex.png\" width=500 height=500 />"
   ]
  },
  {
   "cell_type": "markdown",
   "id": "364530df-f74b-42bf-9989-068460b0b4e8",
   "metadata": {},
   "source": [
    "#### Architecture\n",
    "\n",
    "- In AlexNet’s first layer, the convolution window shape is 11 × 11. ( a larger convolution window is needed to capture the object)\n",
    "\n",
    "- The convolution window shape in the second layer is reduced to 5 × 5, followed by 3 × 3\n",
    "\n",
    "- The convolution window shape in the second layer is reduced to 5 × 5, followed by 3 × 3\n",
    "\n",
    "- after the first, second, and fifth convolutional layers, the network adds max-pooling layers with a window shape of 3 × 3 and a stride of 2.\n",
    "\n",
    "- AlexNet has ten times more convolution channels than LeNet.\n",
    "\n",
    "- After the final convolutional layer, there are two huge fully connected layers with 4096 outputs."
   ]
  },
  {
   "cell_type": "markdown",
   "id": "6744912f-b530-4551-9d94-e47583290e34",
   "metadata": {},
   "source": [
    "#### Activation Functions\n",
    "\n",
    "- AlexNet changed the sigmoid activation function to a simpler ReLU activation function.\n",
    "\n",
    "    - the computation of the ReLU activation function is simpler\n",
    "    - the ReLU activation function makes model training easier when using different parameter initialization methods\n",
    "      \n",
    "        - when the output of the sigmoid activation function is very close to 0 or 1, the gradient of these regions is almost 0, so that backpropagation cannot continue to update some of the model parameters.\n",
    "          \n",
    "        - By contrast, the gradient of the ReLU activation function in the positive interval is always 1\n",
    "     \n",
    "    - local response normalization\n",
    "        - to bound the output of the ReLU layer\n",
    "        - to encourage lateral inhibition wherein a neuron can suppress the activity of its neighbors\n",
    "        - Unlike batch normalization, it contains no trainable parameters."
   ]
  },
  {
   "cell_type": "markdown",
   "id": "6d325404-f558-44cf-81c4-b7c8d7c53861",
   "metadata": {},
   "source": [
    "#### Capacity Control and Preprocessing\n",
    "\n",
    "- AlexNet controls the model complexity of the fully connected layer by dropout, while LeNet only uses weight decay.\n",
    "\n",
    "- To augment the data even further, the training loop of AlexNet added a great deal of image augmentation, such as flipping, clipping, and color changes. This makes the model more robust and the larger sample size effectively reduces overfitting"
   ]
  },
  {
   "cell_type": "code",
   "execution_count": 40,
   "id": "9630782d-f0a4-4ee5-96d9-04b2dbb82dae",
   "metadata": {},
   "outputs": [],
   "source": [
    "import torch\n",
    "import torch.nn as nn\n",
    "from torchvision import models\n",
    "from torchsummary import summary\n",
    "import torchinfo"
   ]
  },
  {
   "cell_type": "code",
   "execution_count": 41,
   "id": "d0c8147b-ef81-4533-a9ce-b0e682b55338",
   "metadata": {},
   "outputs": [
    {
     "data": {
      "text/plain": [
       "==========================================================================================\n",
       "Layer (type:depth-idx)                   Output Shape              Param #\n",
       "==========================================================================================\n",
       "AlexNet                                  [1, 1000]                 --\n",
       "├─Sequential: 1-1                        [1, 256, 6, 6]            --\n",
       "│    └─Conv2d: 2-1                       [1, 64, 55, 55]           23,296\n",
       "│    └─ReLU: 2-2                         [1, 64, 55, 55]           --\n",
       "│    └─MaxPool2d: 2-3                    [1, 64, 27, 27]           --\n",
       "│    └─Conv2d: 2-4                       [1, 192, 27, 27]          307,392\n",
       "│    └─ReLU: 2-5                         [1, 192, 27, 27]          --\n",
       "│    └─MaxPool2d: 2-6                    [1, 192, 13, 13]          --\n",
       "│    └─Conv2d: 2-7                       [1, 384, 13, 13]          663,936\n",
       "│    └─ReLU: 2-8                         [1, 384, 13, 13]          --\n",
       "│    └─Conv2d: 2-9                       [1, 256, 13, 13]          884,992\n",
       "│    └─ReLU: 2-10                        [1, 256, 13, 13]          --\n",
       "│    └─Conv2d: 2-11                      [1, 256, 13, 13]          590,080\n",
       "│    └─ReLU: 2-12                        [1, 256, 13, 13]          --\n",
       "│    └─MaxPool2d: 2-13                   [1, 256, 6, 6]            --\n",
       "├─AdaptiveAvgPool2d: 1-2                 [1, 256, 6, 6]            --\n",
       "├─Sequential: 1-3                        [1, 1000]                 --\n",
       "│    └─Dropout: 2-14                     [1, 9216]                 --\n",
       "│    └─Linear: 2-15                      [1, 4096]                 37,752,832\n",
       "│    └─ReLU: 2-16                        [1, 4096]                 --\n",
       "│    └─Dropout: 2-17                     [1, 4096]                 --\n",
       "│    └─Linear: 2-18                      [1, 4096]                 16,781,312\n",
       "│    └─ReLU: 2-19                        [1, 4096]                 --\n",
       "│    └─Linear: 2-20                      [1, 1000]                 4,097,000\n",
       "==========================================================================================\n",
       "Total params: 61,100,840\n",
       "Trainable params: 61,100,840\n",
       "Non-trainable params: 0\n",
       "Total mult-adds (Units.MEGABYTES): 714.68\n",
       "==========================================================================================\n",
       "Input size (MB): 0.60\n",
       "Forward/backward pass size (MB): 3.95\n",
       "Params size (MB): 244.40\n",
       "Estimated Total Size (MB): 248.96\n",
       "=========================================================================================="
      ]
     },
     "execution_count": 41,
     "metadata": {},
     "output_type": "execute_result"
    }
   ],
   "source": [
    "alex_model = models.alexnet(pretrained=True)\n",
    "torchinfo.summary(alex_model,(3, 224, 224),batch_dim = 0)"
   ]
  },
  {
   "cell_type": "markdown",
   "id": "da62746f-1b0e-45cf-bbbb-47d695da5747",
   "metadata": {},
   "source": [
    "### 2. Networks Using Blocks (VGG) (2014)"
   ]
  },
  {
   "cell_type": "markdown",
   "id": "d91f27d6-b752-4fd3-ab44-a3e08177f451",
   "metadata": {},
   "source": [
    "The basic building block of CNNs is a sequence of the following: \n",
    "\n",
    "    - (i) a convolutional layer with padding to maintain the resolution, \n",
    "    - (ii) a nonlinearity such as a ReLU, \n",
    "    - (iii) a pooling layer such as max-pooling to reduce the resolution. \n",
    "\n",
    "One of the problems with this approach is that **the spatial resolution decreases quite rapidly**. \n",
    "\n",
    "In particular, this imposes a hard limit of $log_{2}$ $d$ convolutional layers on the network before all dimensions $(d)$ are used up.\n",
    "\n",
    ">> For instance, in the case of ImageNet, it would be impossible to have more than 8 convolutional layers in this way."
   ]
  },
  {
   "cell_type": "markdown",
   "id": "ec6fb396-a53b-40ba-8b8b-2526b4117a8a",
   "metadata": {},
   "source": [
    "**The key idea of VGG** was to use multiple convolutions in between downsampling via max-pooling in the form of a block\n",
    "\n",
    "**VGG block** consists of a sequence of convolutions with 3 × 3 kernels with padding of 1 (keeping height and width) followed by a 2 × 2 max-pooling layer with stride of 2 (halving height and width after each block)"
   ]
  },
  {
   "cell_type": "markdown",
   "id": "3802e139-60ce-4bd5-8d7d-7055d72d6d11",
   "metadata": {},
   "source": [
    "### VGG Network"
   ]
  },
  {
   "cell_type": "markdown",
   "id": "ab06ed7a-5e1a-432f-960e-88a47bd90029",
   "metadata": {},
   "source": [
    "the VGG Network can be partitioned into two parts: \n",
    "\n",
    "- the first consisting mostly of convolutional and pooling layers\n",
    "\n",
    "- and the second consisting of fully connected layers that are identical to those in AlexNet\n",
    "\n",
    "\n",
    "**The key difference** is that the convolutional layers are grouped in nonlinear transformations that leave the dimensonality unchanged, followed by a resolution-reduction step"
   ]
  },
  {
   "cell_type": "markdown",
   "id": "22385514-b234-40ec-97b4-987f26b2e7e1",
   "metadata": {},
   "source": [
    "<img src=\"img/vgg.png\" width=500 height=500 />"
   ]
  },
  {
   "cell_type": "code",
   "execution_count": 36,
   "id": "f4892855-5b1e-4ff7-ba9f-e14166364edd",
   "metadata": {},
   "outputs": [
    {
     "data": {
      "text/plain": [
       "==========================================================================================\n",
       "Layer (type:depth-idx)                   Output Shape              Param #\n",
       "==========================================================================================\n",
       "VGG                                      [1, 1000]                 --\n",
       "├─Sequential: 1-1                        [1, 512, 7, 7]            --\n",
       "│    └─Conv2d: 2-1                       [1, 64, 224, 224]         1,792\n",
       "│    └─ReLU: 2-2                         [1, 64, 224, 224]         --\n",
       "│    └─Conv2d: 2-3                       [1, 64, 224, 224]         36,928\n",
       "│    └─ReLU: 2-4                         [1, 64, 224, 224]         --\n",
       "│    └─MaxPool2d: 2-5                    [1, 64, 112, 112]         --\n",
       "│    └─Conv2d: 2-6                       [1, 128, 112, 112]        73,856\n",
       "│    └─ReLU: 2-7                         [1, 128, 112, 112]        --\n",
       "│    └─Conv2d: 2-8                       [1, 128, 112, 112]        147,584\n",
       "│    └─ReLU: 2-9                         [1, 128, 112, 112]        --\n",
       "│    └─MaxPool2d: 2-10                   [1, 128, 56, 56]          --\n",
       "│    └─Conv2d: 2-11                      [1, 256, 56, 56]          295,168\n",
       "│    └─ReLU: 2-12                        [1, 256, 56, 56]          --\n",
       "│    └─Conv2d: 2-13                      [1, 256, 56, 56]          590,080\n",
       "│    └─ReLU: 2-14                        [1, 256, 56, 56]          --\n",
       "│    └─Conv2d: 2-15                      [1, 256, 56, 56]          590,080\n",
       "│    └─ReLU: 2-16                        [1, 256, 56, 56]          --\n",
       "│    └─MaxPool2d: 2-17                   [1, 256, 28, 28]          --\n",
       "│    └─Conv2d: 2-18                      [1, 512, 28, 28]          1,180,160\n",
       "│    └─ReLU: 2-19                        [1, 512, 28, 28]          --\n",
       "│    └─Conv2d: 2-20                      [1, 512, 28, 28]          2,359,808\n",
       "│    └─ReLU: 2-21                        [1, 512, 28, 28]          --\n",
       "│    └─Conv2d: 2-22                      [1, 512, 28, 28]          2,359,808\n",
       "│    └─ReLU: 2-23                        [1, 512, 28, 28]          --\n",
       "│    └─MaxPool2d: 2-24                   [1, 512, 14, 14]          --\n",
       "│    └─Conv2d: 2-25                      [1, 512, 14, 14]          2,359,808\n",
       "│    └─ReLU: 2-26                        [1, 512, 14, 14]          --\n",
       "│    └─Conv2d: 2-27                      [1, 512, 14, 14]          2,359,808\n",
       "│    └─ReLU: 2-28                        [1, 512, 14, 14]          --\n",
       "│    └─Conv2d: 2-29                      [1, 512, 14, 14]          2,359,808\n",
       "│    └─ReLU: 2-30                        [1, 512, 14, 14]          --\n",
       "│    └─MaxPool2d: 2-31                   [1, 512, 7, 7]            --\n",
       "├─AdaptiveAvgPool2d: 1-2                 [1, 512, 7, 7]            --\n",
       "├─Sequential: 1-3                        [1, 1000]                 --\n",
       "│    └─Linear: 2-32                      [1, 4096]                 102,764,544\n",
       "│    └─ReLU: 2-33                        [1, 4096]                 --\n",
       "│    └─Dropout: 2-34                     [1, 4096]                 --\n",
       "│    └─Linear: 2-35                      [1, 4096]                 16,781,312\n",
       "│    └─ReLU: 2-36                        [1, 4096]                 --\n",
       "│    └─Dropout: 2-37                     [1, 4096]                 --\n",
       "│    └─Linear: 2-38                      [1, 1000]                 4,097,000\n",
       "==========================================================================================\n",
       "Total params: 138,357,544\n",
       "Trainable params: 138,357,544\n",
       "Non-trainable params: 0\n",
       "Total mult-adds (Units.GIGABYTES): 15.48\n",
       "==========================================================================================\n",
       "Input size (MB): 0.60\n",
       "Forward/backward pass size (MB): 108.45\n",
       "Params size (MB): 553.43\n",
       "Estimated Total Size (MB): 662.49\n",
       "=========================================================================================="
      ]
     },
     "execution_count": 36,
     "metadata": {},
     "output_type": "execute_result"
    }
   ],
   "source": [
    "vgg16_model = models.vgg16(pretrained=True)\n",
    "\n",
    "torchinfo.summary(vgg16_model,(3, 224, 224),batch_dim = 0)"
   ]
  },
  {
   "cell_type": "markdown",
   "id": "dc80b2ff-785e-4a80-82e4-76de78b05aaf",
   "metadata": {},
   "source": [
    "### 3. Network in Network (NiN) (2013)"
   ]
  },
  {
   "cell_type": "markdown",
   "id": "c4f1663c-7cef-4832-8043-8d2760071013",
   "metadata": {},
   "source": [
    "LeNet, AlexNet, and VGG all share a common design pattern: \n",
    "\n",
    "**extract features exploiting spatial structure via a sequence of convolutions and pooling layers and post-process the representations via fully connected layers**"
   ]
  },
  {
   "cell_type": "markdown",
   "id": "f57bfd00-d05f-4764-8c1e-41aef495effc",
   "metadata": {},
   "source": [
    "##### This design poses two major challenges. \n",
    "\n",
    "- First, the fully connected layers at the end of the architecture consume tremendous numbers of parameters (not suitable for mobile and embedded devices)\n",
    "\n",
    "- Second, it is equally impossible to add fully connected layers earlier in the network to increase the degree of nonlinearity: doing so would destroy the spatial structure and require potentially even more memory."
   ]
  },
  {
   "cell_type": "markdown",
   "id": "39b265ee-3794-4c5e-b76c-2e581b4cf900",
   "metadata": {},
   "source": [
    "**The network in network (NiN) blocks** offer an alternative, capable of solving both problems in one simple strategy."
   ]
  },
  {
   "cell_type": "markdown",
   "id": "1cfdddc8-0309-44cc-8dd5-8a7e3170e3f2",
   "metadata": {},
   "source": [
    "They were proposed based on a very simple insight: \n",
    "\n",
    "- (i) use 1 × 1 convolutions to add local nonlinearities across the channel activations and\n",
    "  \n",
    "- (ii) use global average pooling to integrate across all locations in the last representation layer.\n",
    "\n",
    "\n",
    "The idea behind NiN is to apply a fully connected layer at each pixel location (for each height and width). The resulting 1×1 convolution can be thought of as a fully connected layer acting independently on each pixel location."
   ]
  },
  {
   "cell_type": "markdown",
   "id": "4bdbfbdc-6015-4d31-b1d3-1d60ed3718f0",
   "metadata": {},
   "source": [
    "<img src=\"img/nin.png\" width=500 height=500 />"
   ]
  },
  {
   "cell_type": "code",
   "execution_count": 42,
   "id": "b1d7ff60-0f5b-409f-b879-bbcc9b864194",
   "metadata": {},
   "outputs": [],
   "source": [
    "def nin_block(out_channels, kernel_size, strides, padding):\n",
    "    return nn.Sequential(\n",
    "        nn.LazyConv2d(out_channels, kernel_size, strides, padding),\n",
    "        nn.ReLU(),\n",
    "        nn.LazyConv2d(out_channels, kernel_size=1), \n",
    "        nn.ReLU(),\n",
    "        nn.LazyConv2d(out_channels, kernel_size=1), \n",
    "        nn.ReLU())"
   ]
  },
  {
   "cell_type": "code",
   "execution_count": 48,
   "id": "9b67e236-c3f5-4507-a98e-e78eddbb8d2a",
   "metadata": {},
   "outputs": [],
   "source": [
    "class NiN(nn.Module):\n",
    "    def __init__(self, lr=0.1, num_classes=10):\n",
    "        super().__init__()\n",
    "        \n",
    "        self.net = nn.Sequential(\n",
    "            nin_block(96, kernel_size=11, strides=4, padding=0),\n",
    "            nn.MaxPool2d(3, stride=2),\n",
    "            nin_block(256, kernel_size=5, strides=1, padding=2),\n",
    "            nn.MaxPool2d(3, stride=2),\n",
    "            nin_block(384, kernel_size=3, strides=1, padding=1),\n",
    "            nn.MaxPool2d(3, stride=2),\n",
    "            nn.Dropout(0.5),\n",
    "            nin_block(num_classes, kernel_size=3, strides=1, padding=1),\n",
    "            nn.AdaptiveAvgPool2d((1, 1)),\n",
    "            nn.Flatten())"
   ]
  },
  {
   "cell_type": "markdown",
   "id": "71d4edd2-0555-4c08-970c-5e2812cd6d3b",
   "metadata": {},
   "source": [
    "### 4. Multi-Branch Networks (GoogLeNet) (2015)"
   ]
  },
  {
   "cell_type": "markdown",
   "id": "83142cb8-4e85-46b0-8d73-bfeacde031ff",
   "metadata": {},
   "source": [
    "- It uses a structure that combined the strengths of NiN, repeated blocks, and a cocktail of convolution kernels. \n",
    "\n",
    "- It was arguably the first network that exhibited a clear distinction among the stem (data ingest), body (data processing), and head (prediction) in a CNN\n",
    "\n",
    "- **The key contribution in GoogLeNet** was the design of the network body.\n",
    "\n",
    "    - It solved the problem of selecting convolution kernels (1 × 1 to 11 × 11 ) in an ingenious way. It simply concatenated multi-branch convolutions."
   ]
  },
  {
   "cell_type": "markdown",
   "id": "75d7de90-8796-4506-98b0-02096bf0f603",
   "metadata": {},
   "source": [
    "#### Inception Blocks"
   ]
  },
  {
   "cell_type": "markdown",
   "id": "24589080-033c-42dd-a3dd-e8076516a923",
   "metadata": {},
   "source": [
    "<img src=\"img/inception.png\" width=500 height=500 />"
   ]
  },
  {
   "cell_type": "markdown",
   "id": "c66f11ec-de98-4052-9aa7-e411832caefe",
   "metadata": {},
   "source": [
    "- The first three branches use convolutional layers with window sizes of 1 × 1, 3 × 3, and 5 × 5 to extract information from different spatial sizes.\n",
    "-  The middle two branches also add a 1 × 1 convolution of the input **to reduce the number of channels**, reducing the model’s complexity.\n",
    "-  The fourth branch uses a 3 × 3 max-pooling layer, followed by a 1 × 1 convolutional layer to change the number of channels."
   ]
  },
  {
   "cell_type": "markdown",
   "id": "f135a58c-128a-47f4-b904-813872cd48ab",
   "metadata": {},
   "source": [
    "- The four branches all use appropriate padding to give the input and output the same height and width.\n",
    "- The outputs along each branch are concatenated along the channel dimension and comprise the block’s output.\n",
    "- The commonly-tuned hyperparameters of the Inception block are the number of output channels per layer, i.e., how to allocate capacity among convolutions of different size."
   ]
  },
  {
   "cell_type": "markdown",
   "id": "f90682d6-6095-4702-926e-bb5a09a81f1d",
   "metadata": {},
   "source": [
    "**To gain some intuition for why this network works so well, consider the combination of the filters.**"
   ]
  },
  {
   "cell_type": "markdown",
   "id": "cb7e544c-e3ea-49e7-a6d3-c4ce81bdc80d",
   "metadata": {},
   "source": [
    "#### GoogLeNet Model"
   ]
  },
  {
   "cell_type": "markdown",
   "id": "8e1e149c-beea-4eaa-a211-d439ebd7263d",
   "metadata": {},
   "source": [
    "<img src=\"img/googlelenet.png\" width=500 height=500 />"
   ]
  },
  {
   "cell_type": "code",
   "execution_count": 56,
   "id": "6a03cc7e-a7d3-46d1-987c-d8d2e4b73269",
   "metadata": {},
   "outputs": [
    {
     "data": {
      "text/plain": [
       "==========================================================================================\n",
       "Layer (type:depth-idx)                   Output Shape              Param #\n",
       "==========================================================================================\n",
       "GoogLeNet                                [1, 1000]                 --\n",
       "├─BasicConv2d: 1-1                       [1, 64, 112, 112]         --\n",
       "│    └─Conv2d: 2-1                       [1, 64, 112, 112]         9,408\n",
       "│    └─BatchNorm2d: 2-2                  [1, 64, 112, 112]         128\n",
       "├─MaxPool2d: 1-2                         [1, 64, 56, 56]           --\n",
       "├─BasicConv2d: 1-3                       [1, 64, 56, 56]           --\n",
       "│    └─Conv2d: 2-3                       [1, 64, 56, 56]           4,096\n",
       "│    └─BatchNorm2d: 2-4                  [1, 64, 56, 56]           128\n",
       "├─BasicConv2d: 1-4                       [1, 192, 56, 56]          --\n",
       "│    └─Conv2d: 2-5                       [1, 192, 56, 56]          110,592\n",
       "│    └─BatchNorm2d: 2-6                  [1, 192, 56, 56]          384\n",
       "├─MaxPool2d: 1-5                         [1, 192, 28, 28]          --\n",
       "├─Inception: 1-6                         [1, 256, 28, 28]          --\n",
       "│    └─BasicConv2d: 2-7                  [1, 64, 28, 28]           --\n",
       "│    │    └─Conv2d: 3-1                  [1, 64, 28, 28]           12,288\n",
       "│    │    └─BatchNorm2d: 3-2             [1, 64, 28, 28]           128\n",
       "│    └─Sequential: 2-8                   [1, 128, 28, 28]          --\n",
       "│    │    └─BasicConv2d: 3-3             [1, 96, 28, 28]           18,624\n",
       "│    │    └─BasicConv2d: 3-4             [1, 128, 28, 28]          110,848\n",
       "│    └─Sequential: 2-9                   [1, 32, 28, 28]           --\n",
       "│    │    └─BasicConv2d: 3-5             [1, 16, 28, 28]           3,104\n",
       "│    │    └─BasicConv2d: 3-6             [1, 32, 28, 28]           4,672\n",
       "│    └─Sequential: 2-10                  [1, 32, 28, 28]           --\n",
       "│    │    └─MaxPool2d: 3-7               [1, 192, 28, 28]          --\n",
       "│    │    └─BasicConv2d: 3-8             [1, 32, 28, 28]           6,208\n",
       "├─Inception: 1-7                         [1, 480, 28, 28]          --\n",
       "│    └─BasicConv2d: 2-11                 [1, 128, 28, 28]          --\n",
       "│    │    └─Conv2d: 3-9                  [1, 128, 28, 28]          32,768\n",
       "│    │    └─BatchNorm2d: 3-10            [1, 128, 28, 28]          256\n",
       "│    └─Sequential: 2-12                  [1, 192, 28, 28]          --\n",
       "│    │    └─BasicConv2d: 3-11            [1, 128, 28, 28]          33,024\n",
       "│    │    └─BasicConv2d: 3-12            [1, 192, 28, 28]          221,568\n",
       "│    └─Sequential: 2-13                  [1, 96, 28, 28]           --\n",
       "│    │    └─BasicConv2d: 3-13            [1, 32, 28, 28]           8,256\n",
       "│    │    └─BasicConv2d: 3-14            [1, 96, 28, 28]           27,840\n",
       "│    └─Sequential: 2-14                  [1, 64, 28, 28]           --\n",
       "│    │    └─MaxPool2d: 3-15              [1, 256, 28, 28]          --\n",
       "│    │    └─BasicConv2d: 3-16            [1, 64, 28, 28]           16,512\n",
       "├─MaxPool2d: 1-8                         [1, 480, 14, 14]          --\n",
       "├─Inception: 1-9                         [1, 512, 14, 14]          --\n",
       "│    └─BasicConv2d: 2-15                 [1, 192, 14, 14]          --\n",
       "│    │    └─Conv2d: 3-17                 [1, 192, 14, 14]          92,160\n",
       "│    │    └─BatchNorm2d: 3-18            [1, 192, 14, 14]          384\n",
       "│    └─Sequential: 2-16                  [1, 208, 14, 14]          --\n",
       "│    │    └─BasicConv2d: 3-19            [1, 96, 14, 14]           46,272\n",
       "│    │    └─BasicConv2d: 3-20            [1, 208, 14, 14]          180,128\n",
       "│    └─Sequential: 2-17                  [1, 48, 14, 14]           --\n",
       "│    │    └─BasicConv2d: 3-21            [1, 16, 14, 14]           7,712\n",
       "│    │    └─BasicConv2d: 3-22            [1, 48, 14, 14]           7,008\n",
       "│    └─Sequential: 2-18                  [1, 64, 14, 14]           --\n",
       "│    │    └─MaxPool2d: 3-23              [1, 480, 14, 14]          --\n",
       "│    │    └─BasicConv2d: 3-24            [1, 64, 14, 14]           30,848\n",
       "├─Inception: 1-10                        [1, 512, 14, 14]          --\n",
       "│    └─BasicConv2d: 2-19                 [1, 160, 14, 14]          --\n",
       "│    │    └─Conv2d: 3-25                 [1, 160, 14, 14]          81,920\n",
       "│    │    └─BatchNorm2d: 3-26            [1, 160, 14, 14]          320\n",
       "│    └─Sequential: 2-20                  [1, 224, 14, 14]          --\n",
       "│    │    └─BasicConv2d: 3-27            [1, 112, 14, 14]          57,568\n",
       "│    │    └─BasicConv2d: 3-28            [1, 224, 14, 14]          226,240\n",
       "│    └─Sequential: 2-21                  [1, 64, 14, 14]           --\n",
       "│    │    └─BasicConv2d: 3-29            [1, 24, 14, 14]           12,336\n",
       "│    │    └─BasicConv2d: 3-30            [1, 64, 14, 14]           13,952\n",
       "│    └─Sequential: 2-22                  [1, 64, 14, 14]           --\n",
       "│    │    └─MaxPool2d: 3-31              [1, 512, 14, 14]          --\n",
       "│    │    └─BasicConv2d: 3-32            [1, 64, 14, 14]           32,896\n",
       "├─Inception: 1-11                        [1, 512, 14, 14]          --\n",
       "│    └─BasicConv2d: 2-23                 [1, 128, 14, 14]          --\n",
       "│    │    └─Conv2d: 3-33                 [1, 128, 14, 14]          65,536\n",
       "│    │    └─BatchNorm2d: 3-34            [1, 128, 14, 14]          256\n",
       "│    └─Sequential: 2-24                  [1, 256, 14, 14]          --\n",
       "│    │    └─BasicConv2d: 3-35            [1, 128, 14, 14]          65,792\n",
       "│    │    └─BasicConv2d: 3-36            [1, 256, 14, 14]          295,424\n",
       "│    └─Sequential: 2-25                  [1, 64, 14, 14]           --\n",
       "│    │    └─BasicConv2d: 3-37            [1, 24, 14, 14]           12,336\n",
       "│    │    └─BasicConv2d: 3-38            [1, 64, 14, 14]           13,952\n",
       "│    └─Sequential: 2-26                  [1, 64, 14, 14]           --\n",
       "│    │    └─MaxPool2d: 3-39              [1, 512, 14, 14]          --\n",
       "│    │    └─BasicConv2d: 3-40            [1, 64, 14, 14]           32,896\n",
       "├─Inception: 1-12                        [1, 528, 14, 14]          --\n",
       "│    └─BasicConv2d: 2-27                 [1, 112, 14, 14]          --\n",
       "│    │    └─Conv2d: 3-41                 [1, 112, 14, 14]          57,344\n",
       "│    │    └─BatchNorm2d: 3-42            [1, 112, 14, 14]          224\n",
       "│    └─Sequential: 2-28                  [1, 288, 14, 14]          --\n",
       "│    │    └─BasicConv2d: 3-43            [1, 144, 14, 14]          74,016\n",
       "│    │    └─BasicConv2d: 3-44            [1, 288, 14, 14]          373,824\n",
       "│    └─Sequential: 2-29                  [1, 64, 14, 14]           --\n",
       "│    │    └─BasicConv2d: 3-45            [1, 32, 14, 14]           16,448\n",
       "│    │    └─BasicConv2d: 3-46            [1, 64, 14, 14]           18,560\n",
       "│    └─Sequential: 2-30                  [1, 64, 14, 14]           --\n",
       "│    │    └─MaxPool2d: 3-47              [1, 512, 14, 14]          --\n",
       "│    │    └─BasicConv2d: 3-48            [1, 64, 14, 14]           32,896\n",
       "├─Inception: 1-13                        [1, 832, 14, 14]          --\n",
       "│    └─BasicConv2d: 2-31                 [1, 256, 14, 14]          --\n",
       "│    │    └─Conv2d: 3-49                 [1, 256, 14, 14]          135,168\n",
       "│    │    └─BatchNorm2d: 3-50            [1, 256, 14, 14]          512\n",
       "│    └─Sequential: 2-32                  [1, 320, 14, 14]          --\n",
       "│    │    └─BasicConv2d: 3-51            [1, 160, 14, 14]          84,800\n",
       "│    │    └─BasicConv2d: 3-52            [1, 320, 14, 14]          461,440\n",
       "│    └─Sequential: 2-33                  [1, 128, 14, 14]          --\n",
       "│    │    └─BasicConv2d: 3-53            [1, 32, 14, 14]           16,960\n",
       "│    │    └─BasicConv2d: 3-54            [1, 128, 14, 14]          37,120\n",
       "│    └─Sequential: 2-34                  [1, 128, 14, 14]          --\n",
       "│    │    └─MaxPool2d: 3-55              [1, 528, 14, 14]          --\n",
       "│    │    └─BasicConv2d: 3-56            [1, 128, 14, 14]          67,840\n",
       "├─MaxPool2d: 1-14                        [1, 832, 7, 7]            --\n",
       "├─Inception: 1-15                        [1, 832, 7, 7]            --\n",
       "│    └─BasicConv2d: 2-35                 [1, 256, 7, 7]            --\n",
       "│    │    └─Conv2d: 3-57                 [1, 256, 7, 7]            212,992\n",
       "│    │    └─BatchNorm2d: 3-58            [1, 256, 7, 7]            512\n",
       "│    └─Sequential: 2-36                  [1, 320, 7, 7]            --\n",
       "│    │    └─BasicConv2d: 3-59            [1, 160, 7, 7]            133,440\n",
       "│    │    └─BasicConv2d: 3-60            [1, 320, 7, 7]            461,440\n",
       "│    └─Sequential: 2-37                  [1, 128, 7, 7]            --\n",
       "│    │    └─BasicConv2d: 3-61            [1, 32, 7, 7]             26,688\n",
       "│    │    └─BasicConv2d: 3-62            [1, 128, 7, 7]            37,120\n",
       "│    └─Sequential: 2-38                  [1, 128, 7, 7]            --\n",
       "│    │    └─MaxPool2d: 3-63              [1, 832, 7, 7]            --\n",
       "│    │    └─BasicConv2d: 3-64            [1, 128, 7, 7]            106,752\n",
       "├─Inception: 1-16                        [1, 1024, 7, 7]           --\n",
       "│    └─BasicConv2d: 2-39                 [1, 384, 7, 7]            --\n",
       "│    │    └─Conv2d: 3-65                 [1, 384, 7, 7]            319,488\n",
       "│    │    └─BatchNorm2d: 3-66            [1, 384, 7, 7]            768\n",
       "│    └─Sequential: 2-40                  [1, 384, 7, 7]            --\n",
       "│    │    └─BasicConv2d: 3-67            [1, 192, 7, 7]            160,128\n",
       "│    │    └─BasicConv2d: 3-68            [1, 384, 7, 7]            664,320\n",
       "│    └─Sequential: 2-41                  [1, 128, 7, 7]            --\n",
       "│    │    └─BasicConv2d: 3-69            [1, 48, 7, 7]             40,032\n",
       "│    │    └─BasicConv2d: 3-70            [1, 128, 7, 7]            55,552\n",
       "│    └─Sequential: 2-42                  [1, 128, 7, 7]            --\n",
       "│    │    └─MaxPool2d: 3-71              [1, 832, 7, 7]            --\n",
       "│    │    └─BasicConv2d: 3-72            [1, 128, 7, 7]            106,752\n",
       "├─AdaptiveAvgPool2d: 1-17                [1, 1024, 1, 1]           --\n",
       "├─Dropout: 1-18                          [1, 1024]                 --\n",
       "├─Linear: 1-19                           [1, 1000]                 1,025,000\n",
       "==========================================================================================\n",
       "Total params: 6,624,904\n",
       "Trainable params: 6,624,904\n",
       "Non-trainable params: 0\n",
       "Total mult-adds (Units.GIGABYTES): 1.50\n",
       "==========================================================================================\n",
       "Input size (MB): 0.60\n",
       "Forward/backward pass size (MB): 51.63\n",
       "Params size (MB): 26.50\n",
       "Estimated Total Size (MB): 78.73\n",
       "=========================================================================================="
      ]
     },
     "execution_count": 56,
     "metadata": {},
     "output_type": "execute_result"
    }
   ],
   "source": [
    "googlenet = models.googlenet(pretrained=True)\n",
    "\n",
    "torchinfo.summary(googlenet,(3, 224, 224),batch_dim = 0)"
   ]
  },
  {
   "cell_type": "code",
   "execution_count": null,
   "id": "292d99cc-c744-47dc-a402-fb4e31e1c0bb",
   "metadata": {},
   "outputs": [],
   "source": []
  }
 ],
 "metadata": {
  "kernelspec": {
   "display_name": "Python 3 (ipykernel)",
   "language": "python",
   "name": "python3"
  },
  "language_info": {
   "codemirror_mode": {
    "name": "ipython",
    "version": 3
   },
   "file_extension": ".py",
   "mimetype": "text/x-python",
   "name": "python",
   "nbconvert_exporter": "python",
   "pygments_lexer": "ipython3",
   "version": "3.12.1"
  }
 },
 "nbformat": 4,
 "nbformat_minor": 5
}
